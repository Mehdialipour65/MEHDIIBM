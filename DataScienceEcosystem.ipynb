{
 "cells": [
  {
   "cell_type": "markdown",
   "id": "db59d7f2-6539-4f19-a941-ec48aa18c759",
   "metadata": {},
   "source": [
    "## Author\n",
    "\n",
    "## Mehdi Alipour"
   ]
  },
  {
   "cell_type": "markdown",
   "id": "49c71c29-e1ee-46be-9175-47ff150ac737",
   "metadata": {},
   "source": [
    "# Data Science Tools and Ecosystem"
   ]
  },
  {
   "cell_type": "markdown",
   "id": "aca521c4-ec4e-409e-8b8b-db624d3f45f3",
   "metadata": {},
   "source": [
    "## In this notebook, Data Science Tools and Ecosystem are summarized"
   ]
  },
  {
   "cell_type": "markdown",
   "id": "459cdcf2-a9ac-4049-a658-da4d6d402760",
   "metadata": {},
   "source": [
    "## **Objectives:**\n",
    "\n",
    "- ### List of popular languages for Data Science\n",
    "\n",
    "- ### List of popular libraries for Data Science\n",
    "\n",
    "- ### Commercial tools for  Data Science"
   ]
  },
  {
   "cell_type": "markdown",
   "id": "78be5f2e-6074-4cfa-8d0f-55c1f1d92eab",
   "metadata": {},
   "source": [
    "## Some of the popular languages that Data Scientists use are:\n",
    "\n",
    "1. Python\n",
    "\n",
    "2. R\n",
    "\n",
    "3. SQL"
   ]
  },
  {
   "cell_type": "markdown",
   "id": "1ed0a3a2-6678-4d7c-a0f6-f8efc869f52f",
   "metadata": {},
   "source": [
    "## Some of the commonly used libraries used by Data Scientists include:\n",
    "\n",
    "1. Pandas\n",
    "\n",
    "2. NumPy\n",
    "\n",
    "3. TensorFlow"
   ]
  },
  {
   "cell_type": "markdown",
   "id": "963c41f6-9ba9-4f0b-853e-62f823e54604",
   "metadata": {},
   "source": [
    "## Create a markdown cell with a table of Data Science tools:\n",
    "\n",
    "|Tools|\n",
    "|-------|\n",
    "|Pandas|\n",
    "|NumPy|\n",
    "|Matplotlib|"
   ]
  },
  {
   "cell_type": "markdown",
   "id": "a34aa5e4-57c8-4b77-a804-d0b61751100d",
   "metadata": {},
   "source": [
    "### Below are a few examples of evaluating arithmetic expressions in Python:\n",
    "\n",
    "### 1. Addition\n",
    "\n",
    "2+2 # Adds 2 and 2\n",
    "\n",
    "### 2. Subtraction\n",
    "\n",
    "10-4 # Subtracts 4 from 10\n",
    "\n",
    "### 3. Multiplication\n",
    "\n",
    "2*3 # Multiplies 3 by 2\n",
    "\n",
    "### 4. Division\n",
    "\n",
    "10/2 # Divides 10 by 2"
   ]
  },
  {
   "cell_type": "code",
   "execution_count": 9,
   "id": "c7e4e121-a0b1-48e3-a793-9388e676f25c",
   "metadata": {},
   "outputs": [
    {
     "name": "stdout",
     "output_type": "stream",
     "text": [
      "17\n"
     ]
    }
   ],
   "source": [
    "# This a simple arithmetic expression to mutiplying 3 by 4 then add integer 5.\n",
    "\n",
    "print ((3*4)+5)"
   ]
  },
  {
   "cell_type": "code",
   "execution_count": 11,
   "id": "b8e03cb3-6bcc-46ef-8354-5a06b472e605",
   "metadata": {},
   "outputs": [
    {
     "data": {
      "text/plain": [
       "3.3333333333333335"
      ]
     },
     "execution_count": 11,
     "metadata": {},
     "output_type": "execute_result"
    }
   ],
   "source": [
    "# This will convert 200 minutes to hours by diving by 60\n",
    "\n",
    "def convert_minutes_to_hours(minutes):\n",
    "\n",
    "    hours = minutes / 60\n",
    "\n",
    "    return hours\n",
    "\n",
    "    # Example usage\n",
    "\n",
    "minutes = 200  # Change this value to any number of minutes\n",
    "\n",
    "hours = convert_minutes_to_hours(minutes)\n",
    "\n",
    "hours"
   ]
  },
  {
   "cell_type": "code",
   "execution_count": null,
   "id": "62b832e0-8ab2-480b-b848-0dd707b7448d",
   "metadata": {},
   "outputs": [],
   "source": []
  }
 ],
 "metadata": {
  "kernelspec": {
   "display_name": "anaconda-2024.02-py310",
   "language": "python",
   "name": "conda-env-anaconda-2024.02-py310-py"
  },
  "language_info": {
   "codemirror_mode": {
    "name": "ipython",
    "version": 3
   },
   "file_extension": ".py",
   "mimetype": "text/x-python",
   "name": "python",
   "nbconvert_exporter": "python",
   "pygments_lexer": "ipython3",
   "version": "3.10.14"
  }
 },
 "nbformat": 4,
 "nbformat_minor": 5
}
